{
 "cells": [
  {
   "cell_type": "code",
   "execution_count": 10,
   "metadata": {},
   "outputs": [],
   "source": [
    "## NOTE: THis code may not be up to date -- the exact version is slightly different but has different filter conditions, \n",
    "\n",
    "from datetime import datetime\n",
    "import networkx as nx\n",
    "from collections import defaultdict\n",
    "import sys\n",
    "user_counts = defaultdict(lambda : 0)\n",
    "biz_counts = defaultdict(lambda :0)\n",
    "\n",
    "with open(\"user_business.csv\") as f:\n",
    "    for line in f:\n",
    "        line = line.split(\"\\n\")[0].strip()\n",
    "        u_id,b_id, date = line.split(\"\\t\")\n",
    "        date = datetime.strptime(date, '%Y-%m-%d %H:%M:%S')\n",
    "        user_counts[u_id] +=1\n",
    "        biz_counts[b_id] += 1\n",
    "\n",
    "user_business_interactions = []\n",
    "with open(\"user_business.csv\") as f:\n",
    "    for line in f:\n",
    "        line = line.split(\"\\n\")[0].strip()\n",
    "        u_id,b_id, date = line.split(\"\\t\")\n",
    "        date = datetime.strptime(date, '%Y-%m-%d %H:%M:%S')\n",
    "        if biz_counts[b_id] < 10:\n",
    "            continue\n",
    "        if user_counts[u_id] < 10:\n",
    "            continue\n",
    "        user_business_interactions.append((u_id, b_id, date))\n",
    "\n",
    "user_business_interactions.sort(key = lambda x : x[2])\n",
    "\n"
   ]
  },
  {
   "cell_type": "code",
   "execution_count": 11,
   "metadata": {},
   "outputs": [],
   "source": [
    "biz_cats = {}\n",
    "with open(\"business_categories.csv\") as f:\n",
    "    lines = f.read().splitlines()\n",
    "    for l in lines:\n",
    "        bid, cat = l.split(\"\\t\")\n",
    "        biz_cats[bid] = cat\n"
   ]
  },
  {
   "cell_type": "code",
   "execution_count": 12,
   "metadata": {},
   "outputs": [],
   "source": [
    "# Define paramters for data extraction\n",
    "\n",
    "\n",
    "slices_links = defaultdict(lambda : nx.MultiGraph())\n",
    "slices_features = defaultdict(lambda : {})\n",
    "\n",
    "START_DATE= datetime.strptime(\"2009-01-01\", '%Y-%m-%d')\n",
    "END_DATE= datetime.strptime(\"2016-11-01\", '%Y-%m-%d')\n",
    "\n",
    "\n",
    "SLICE_MONTHS = 6\n"
   ]
  },
  {
   "cell_type": "code",
   "execution_count": 13,
   "metadata": {},
   "outputs": [
    {
     "name": "stdout",
     "output_type": "stream",
     "text": [
      "('total # nodes', 10435)\n"
     ]
    }
   ],
   "source": [
    "all_nodes = []\n",
    "for obj in user_business_interactions:\n",
    "    u_id, b_id, date = obj\n",
    "    if date < START_DATE:\n",
    "        continue\n",
    "    if date > END_DATE:\n",
    "        break    \n",
    "    all_nodes.append(u_id)\n",
    "    all_nodes.append(b_id)\n",
    "num_nodes = len (list(set(all_nodes)))\n",
    "print (\"total # nodes\", num_nodes)\n",
    "feat_dim = num_nodes"
   ]
  },
  {
   "cell_type": "code",
   "execution_count": 5,
   "metadata": {},
   "outputs": [
    {
     "name": "stdout",
     "output_type": "stream",
     "text": [
      "Start date 2009-01-01 00:00:00\n",
      "0\n",
      "10000\n",
      "20000\n",
      "30000\n",
      "40000\n",
      "50000\n",
      "60000\n",
      "70000\n",
      "80000\n",
      "90000\n",
      "100000\n",
      "110000\n",
      "120000\n",
      "130000\n"
     ]
    }
   ],
   "source": [
    "\n",
    "\n",
    "print (\"Start date\", START_DATE)\n",
    "\n",
    "slice_id = 0\n",
    "ctr = 0\n",
    "\n",
    "for obj in user_business_interactions:\n",
    "    u_id, b_id, date = obj\n",
    "    #print (u_id, b_id, date)\n",
    "\n",
    "    prev_slice_id = slice_id\n",
    "    \n",
    "    months_diff = (date-START_DATE).days/30.0\n",
    "    \n",
    "    if date > END_DATE:\n",
    "        break\n",
    "    if months_diff < 0:\n",
    "        continue\n",
    "        \n",
    "    slice_id = int(months_diff // SLICE_MONTHS)\n",
    "    \n",
    "    if slice_id == 1+prev_slice_id and slice_id > 0:\n",
    "        slices_links[slice_id] = nx.MultiGraph()\n",
    "        slices_links[slice_id].add_nodes_from(slices_links[slice_id-1].nodes(data=True))\n",
    "        # Empty feature vector to start for every time-slice ?\n",
    "        \n",
    "        slices_features[slice_id] = {}\n",
    "        #for n in slices_links[slice_id].nodes():\n",
    "        #    slices_features[slice_id][n] = np.zeros(feat_dim)\n",
    "\n",
    "    if slice_id == 1+prev_slice_id and slice_id ==0:\n",
    "        slices_links[slice_id] = nx.MultiGraph()\n",
    "        #slices_author_features[slice_id] = {}\n",
    "\n",
    "    if ctr % 10000 == 0:\n",
    "        print (ctr)\n",
    "    ctr +=1\n",
    "\n",
    "    #if a1 not in slices_author_features[slice_id]:\n",
    "    #    slices_author_features[slice_id][a1] = np.zeros(feat_dim)\n",
    "    #slices_author_features[slice_id][a1] += feat\n",
    "    if u_id not in slices_links[slice_id]:\n",
    "        slices_links[slice_id].add_node(u_id, type='U')\n",
    "\n",
    "    if b_id not in slices_links[slice_id]:\n",
    "        slices_links[slice_id].add_node(b_id, type='B')\n",
    "        \n",
    "    slices_links[slice_id].add_edge(u_id, b_id, date=date)\n"
   ]
  },
  {
   "cell_type": "code",
   "execution_count": 6,
   "metadata": {},
   "outputs": [
    {
     "name": "stdout",
     "output_type": "stream",
     "text": [
      "# nodes in slice 0 1750\n",
      "# edges in slice 0 3259\n",
      "# nodes in slice 1 2598\n",
      "# edges in slice 1 3438\n",
      "# nodes in slice 2 3426\n",
      "# edges in slice 2 4920\n",
      "# nodes in slice 3 4165\n",
      "# edges in slice 3 5433\n",
      "# nodes in slice 4 5070\n",
      "# edges in slice 4 7326\n",
      "# nodes in slice 5 5833\n",
      "# edges in slice 5 6935\n",
      "# nodes in slice 6 6553\n",
      "# edges in slice 6 7224\n",
      "# nodes in slice 7 7265\n",
      "# edges in slice 7 7177\n",
      "# nodes in slice 8 7976\n",
      "# edges in slice 8 8768\n",
      "# nodes in slice 9 8764\n",
      "# edges in slice 9 9580\n",
      "# nodes in slice 10 9589\n",
      "# edges in slice 10 11283\n",
      "# nodes in slice 11 10419\n",
      "# edges in slice 11 11396\n",
      "# nodes in slice 12 11204\n",
      "# edges in slice 12 12766\n",
      "# nodes in slice 13 11814\n",
      "# edges in slice 13 12807\n",
      "# nodes in slice 14 12335\n",
      "# edges in slice 14 13136\n",
      "# nodes in slice 15 12728\n",
      "# edges in slice 15 11474\n"
     ]
    }
   ],
   "source": [
    "from scipy.sparse import csr_matrix\n",
    "import scipy \n",
    "import numpy as np\n",
    "\n",
    "for slice_id in slices_links:\n",
    "    print (\"# nodes in slice\", slice_id, len(slices_links[slice_id].nodes()))\n",
    "    print (\"# edges in slice\", slice_id, len(slices_links[slice_id].edges()))\n",
    "\n",
    "    temp = np.identity(len(slices_links[max(slices_links.keys())].nodes()))\n",
    "    \n",
    "    slices_features[slice_id] = {}\n",
    "    for idx, node in enumerate(slices_links[slice_id].nodes()):\n",
    "        slices_features[slice_id][node] = temp[idx] "
   ]
  },
  {
   "cell_type": "code",
   "execution_count": 7,
   "metadata": {},
   "outputs": [
    {
     "name": "stdout",
     "output_type": "stream",
     "text": [
      "# labels 1131 total # nodes 1750\n",
      "# labels 1614 total # nodes 2598\n",
      "# labels 2037 total # nodes 3426\n",
      "# labels 2373 total # nodes 4165\n",
      "# labels 2747 total # nodes 5070\n",
      "# labels 3017 total # nodes 5833\n",
      "# labels 3299 total # nodes 6553\n",
      "# labels 3553 total # nodes 7265\n",
      "# labels 3823 total # nodes 7976\n",
      "# labels 4079 total # nodes 8764\n",
      "# labels 4333 total # nodes 9589\n",
      "# labels 4561 total # nodes 10419\n",
      "# labels 4837 total # nodes 11204\n",
      "# labels 5044 total # nodes 11814\n",
      "# labels 5273 total # nodes 12335\n",
      "# labels 5460 total # nodes 12728\n"
     ]
    }
   ],
   "source": [
    "# slices_labels \n",
    "slices_labels = defaultdict(lambda : {})\n",
    "cats_list = list(set(biz_cats.values()))\n",
    "cats_map = {k:v for k,v in zip(cats_list, range(0, len(cats_list)))}\n",
    "\n",
    "\n",
    "date_delta = 3\n",
    "for slice_id in slices_links:\n",
    "    slice_nodes = slices_links[slice_id].nodes()\n",
    "    slices_labels[slice_id] = []\n",
    "\n",
    "    for b_id in slice_nodes:\n",
    "        if b_id in biz_cats:\n",
    "            label = biz_cats[b_id]\n",
    "            slices_labels[slice_id].append((b_id, label))\n",
    "\n",
    "    print (\"# labels\", len(slices_labels[slice_id]), \"total # nodes\", len(slice_nodes))\n",
    "\n"
   ]
  },
  {
   "cell_type": "code",
   "execution_count": 8,
   "metadata": {},
   "outputs": [],
   "source": [
    "\n",
    "def remap(slices_graph, slices_features, slices_labels):\n",
    "    all_nodes = []\n",
    "    for slice_id in slices_graph:\n",
    "        assert len(slices_graph[slice_id].nodes()) == len(slices_features[slice_id])\n",
    "        all_nodes.extend(slices_graph[slice_id].nodes())\n",
    "    all_nodes = list(set(all_nodes))\n",
    "    print (\"Total # nodes\", len(all_nodes), \"max idx\", max(all_nodes))\n",
    "    ctr = 0\n",
    "    node_idx = {}\n",
    "    idx_node = []\n",
    "    for slice_id in slices_graph:\n",
    "        for node in slices_graph[slice_id].nodes():\n",
    "            if node not in node_idx:\n",
    "                node_idx[node] = ctr\n",
    "                idx_node.append(node)\n",
    "                ctr += 1\n",
    "    slices_graph_remap = []\n",
    "    slices_features_remap = []\n",
    "    for slice_id in slices_graph:\n",
    "        G = nx.MultiGraph()\n",
    "        for x in slices_graph[slice_id].nodes():\n",
    "            G.add_node(node_idx[x])\n",
    "        for x in slices_graph[slice_id].edges(data=True):\n",
    "            G.add_edge(node_idx[x[0]], node_idx[x[1]], date=x[2]['date'])\n",
    "        assert (len(G.nodes()) == len(slices_graph[slice_id].nodes()))\n",
    "        assert (len(G.edges()) == len(slices_graph[slice_id].edges()))\n",
    "        slices_graph_remap.append(G)\n",
    "    for slice_id in slices_features:\n",
    "        features_remap = []\n",
    "        for x in slices_graph_remap[slice_id].nodes():\n",
    "            features_remap.append(np.array(slices_features[slice_id][idx_node[x]]).flatten())\n",
    "        features_remap = csr_matrix(np.squeeze(np.array(features_remap)))\n",
    "        slices_features_remap.append(features_remap)\n",
    "        print (slice_id, features_remap.shape)\n",
    "    slices_labels_remap = []\n",
    "    for slice_id in slices_labels:\n",
    "        labels_remap = []\n",
    "        for x,y in slices_labels[slice_id]:\n",
    "            labels_remap.append((node_idx[x], y))\n",
    "        slices_labels_remap.append(labels_remap)\n",
    "    return (slices_graph_remap, slices_features_remap, slices_labels_remap)\n",
    "\n"
   ]
  },
  {
   "cell_type": "code",
   "execution_count": 9,
   "metadata": {},
   "outputs": [
    {
     "name": "stdout",
     "output_type": "stream",
     "text": [
      "Total # nodes 12728 max idx zzF17hwmlFTuOa1Yagi-eg\n",
      "1 (2598, 12728)\n",
      "2 (3426, 12728)\n",
      "3 (4165, 12728)\n",
      "4 (5070, 12728)\n",
      "5 (5833, 12728)\n",
      "6 (6553, 12728)\n",
      "7 (7265, 12728)\n",
      "8 (7976, 12728)\n",
      "9 (8764, 12728)\n",
      "10 (9589, 12728)\n",
      "11 (10419, 12728)\n",
      "12 (11204, 12728)\n",
      "13 (11814, 12728)\n",
      "14 (12335, 12728)\n",
      "15 (12728, 12728)\n",
      "0 (1750, 12728)\n"
     ]
    }
   ],
   "source": [
    "slices_links_remap, slices_features_remap, slices_labels_remap = remap(slices_links, slices_features, slices_labels)\n"
   ]
  },
  {
   "cell_type": "code",
   "execution_count": 99,
   "metadata": {},
   "outputs": [],
   "source": [
    "\n",
    "np.savez('yelp/graphs.npz', graph=slices_links_remap)\n",
    "np.savez('yelp/features.npz', feats=slices_features_remap)\n",
    "np.savez('yelp/labels.npz', labels=slices_labels_remap)\n"
   ]
  }
 ],
 "metadata": {
  "kernelspec": {
   "display_name": "Python [conda env:tf2]",
   "language": "python",
   "name": "conda-env-tf2-py"
  },
  "language_info": {
   "codemirror_mode": {
    "name": "ipython",
    "version": 2
   },
   "file_extension": ".py",
   "mimetype": "text/x-python",
   "name": "python",
   "nbconvert_exporter": "python",
   "pygments_lexer": "ipython2",
   "version": "2.7.15"
  }
 },
 "nbformat": 4,
 "nbformat_minor": 2
}
