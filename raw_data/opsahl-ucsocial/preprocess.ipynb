{
 "cells": [
  {
   "cell_type": "markdown",
   "metadata": {},
   "source": [
    "# Email UCI dataset: Download link - \n",
    "\n",
    "http://networkrepository.com/opsahl_ucsocial.php"
   ]
  },
  {
   "cell_type": "code",
   "execution_count": 1,
   "metadata": {},
   "outputs": [
    {
     "name": "stdout",
     "output_type": "stream",
     "text": [
      "('Min ts', datetime.datetime(2004, 4, 14, 22, 56, 1), 'max ts', datetime.datetime(2004, 10, 25, 15, 52, 22))\n",
      "Total time span: 193 days\n"
     ]
    }
   ],
   "source": [
    "import dill\n",
    "from collections import defaultdict\n",
    "from datetime import datetime, timedelta\n",
    "\n",
    "links = []\n",
    "ts = []\n",
    "ctr = 0\n",
    "node_cnt = 0\n",
    "node_idx = {}\n",
    "idx_node = []\n",
    "\n",
    "with open('out.opsahl-ucsocial') as f:\n",
    "    lines = f.read().splitlines()\n",
    "    for l in lines:\n",
    "        if l[0] == '%':\n",
    "            continue\n",
    "            \n",
    "        x, y, e, t = map(int, l.split())\n",
    "        # print (x,y,e,t)\n",
    "        timestamp = datetime.fromtimestamp(t)\n",
    "        ts.append(timestamp)\n",
    "        \n",
    "        ctr += 1\n",
    "        if ctr % 100000 == 0:\n",
    "            print (ctr)\n",
    "            \n",
    "        if x not in node_idx:\n",
    "            node_idx[x] = node_cnt \n",
    "            node_cnt += 1\n",
    "            \n",
    "        if y not in node_idx:\n",
    "            node_idx[y] = node_cnt \n",
    "            node_cnt += 1\n",
    "    \n",
    "        links.append((node_idx[x],node_idx[y], timestamp))\n",
    "\n",
    "print (\"Min ts\", min(ts), \"max ts\", max(ts))    \n",
    "print (\"Total time span: {} days\".format((max(ts) - min(ts)).days))\n",
    "links.sort(key =lambda x: x[2])\n",
    "\n"
   ]
  },
  {
   "cell_type": "code",
   "execution_count": 2,
   "metadata": {},
   "outputs": [
    {
     "name": "stdout",
     "output_type": "stream",
     "text": [
      "('Start date', datetime.datetime(2004, 4, 19, 22, 56, 1))\n",
      "('# nodes in slice', 0, 497)\n",
      "('# edges in slice', 0, 4691)\n",
      "('Shape of temp matrix', (1809, 1809))\n",
      "('# nodes in slice', 1, 975)\n",
      "('# edges in slice', 1, 13329)\n",
      "('Shape of temp matrix', (1809, 1809))\n",
      "('# nodes in slice', 2, 1223)\n",
      "('# edges in slice', 2, 10639)\n",
      "('Shape of temp matrix', (1809, 1809))\n",
      "('# nodes in slice', 3, 1501)\n",
      "('# edges in slice', 3, 13399)\n",
      "('Shape of temp matrix', (1809, 1809))\n",
      "('# nodes in slice', 4, 1655)\n",
      "('# edges in slice', 4, 4814)\n",
      "('Shape of temp matrix', (1809, 1809))\n",
      "('# nodes in slice', 5, 1705)\n",
      "('# edges in slice', 5, 2817)\n",
      "('Shape of temp matrix', (1809, 1809))\n",
      "('# nodes in slice', 6, 1722)\n",
      "('# edges in slice', 6, 523)\n",
      "('Shape of temp matrix', (1809, 1809))\n",
      "('# nodes in slice', 7, 1741)\n",
      "('# edges in slice', 7, 1773)\n",
      "('Shape of temp matrix', (1809, 1809))\n",
      "('# nodes in slice', 8, 1750)\n",
      "('# edges in slice', 8, 995)\n",
      "('Shape of temp matrix', (1809, 1809))\n",
      "('# nodes in slice', 9, 1774)\n",
      "('# edges in slice', 9, 1007)\n",
      "('Shape of temp matrix', (1809, 1809))\n",
      "('# nodes in slice', 10, 1781)\n",
      "('# edges in slice', 10, 805)\n",
      "('Shape of temp matrix', (1809, 1809))\n",
      "('# nodes in slice', 11, 1795)\n",
      "('# edges in slice', 11, 782)\n",
      "('Shape of temp matrix', (1809, 1809))\n",
      "('# nodes in slice', 12, 1809)\n",
      "('# edges in slice', 12, 885)\n",
      "('Shape of temp matrix', (1809, 1809))\n"
     ]
    }
   ],
   "source": [
    "import networkx as nx\n",
    "import numpy as np\n",
    "from datetime import datetime, timedelta\n",
    "SLICE_DAYS = 10\n",
    "START_DATE = min(ts) + timedelta(5)\n",
    "END_DATE = max(ts) - timedelta(60)\n",
    "\n",
    "slices_links = defaultdict(lambda : nx.MultiGraph())\n",
    "slices_features = defaultdict(lambda : {})\n",
    "\n",
    "print (\"Start date\", START_DATE)\n",
    "\n",
    "slice_id = 0\n",
    "# Split the set of links in order by slices to create the graphs. \n",
    "for (a, b, time) in links:\n",
    "    prev_slice_id = slice_id\n",
    "    \n",
    "    datetime_object = time\n",
    "    if datetime_object < START_DATE:\n",
    "        continue\n",
    "    if datetime_object > END_DATE:\n",
    "        break\n",
    "        days_diff = (END_DATE - START_DATE).days\n",
    "    else:\n",
    "        days_diff = (datetime_object - START_DATE).days\n",
    "        \n",
    "    \n",
    "    slice_id = days_diff // SLICE_DAYS\n",
    "    \n",
    "    if slice_id == 1+prev_slice_id and slice_id > 0:\n",
    "        slices_links[slice_id] = nx.MultiGraph()\n",
    "        slices_links[slice_id].add_nodes_from(slices_links[slice_id-1].nodes(data=True))\n",
    "        assert (len(slices_links[slice_id].edges()) ==0)\n",
    "        #assert len(slices_links[slice_id].nodes()) >0\n",
    "\n",
    "    if slice_id == 1+prev_slice_id and slice_id ==0:\n",
    "        slices_links[slice_id] = nx.MultiGraph()\n",
    "\n",
    "    if a not in slices_links[slice_id]:\n",
    "        slices_links[slice_id].add_node(a)\n",
    "    if b not in slices_links[slice_id]:\n",
    "        slices_links[slice_id].add_node(b)    \n",
    "    slices_links[slice_id].add_edge(a,b, date=datetime_object)\n",
    "    \n",
    "for slice_id in slices_links:\n",
    "    print (\"# nodes in slice\", slice_id, len(slices_links[slice_id].nodes()))\n",
    "    print (\"# edges in slice\", slice_id, len(slices_links[slice_id].edges()))\n",
    "    \n",
    "    temp = np.identity(len(slices_links[max(slices_links.keys())].nodes()))\n",
    "    print (\"Shape of temp matrix\", temp.shape)\n",
    "    slices_features[slice_id] = {}\n",
    "    for idx, node in enumerate(slices_links[slice_id].nodes()):\n",
    "        slices_features[slice_id][node] = temp[idx]\n",
    "\n",
    "# TODO : remap and output. \n"
   ]
  },
  {
   "cell_type": "code",
   "execution_count": 3,
   "metadata": {},
   "outputs": [],
   "source": [
    "from scipy.sparse import csr_matrix\n",
    "\n",
    "def remap(slices_graph, slices_features):\n",
    "    all_nodes = []\n",
    "    for slice_id in slices_graph:\n",
    "        assert len(slices_graph[slice_id].nodes()) == len(slices_features[slice_id])\n",
    "        all_nodes.extend(slices_graph[slice_id].nodes())\n",
    "    all_nodes = list(set(all_nodes))\n",
    "    print (\"Total # nodes\", len(all_nodes), \"max idx\", max(all_nodes))\n",
    "    ctr = 0\n",
    "    node_idx = {}\n",
    "    idx_node = []\n",
    "    for slice_id in slices_graph:\n",
    "        for node in slices_graph[slice_id].nodes():\n",
    "            if node not in node_idx:\n",
    "                node_idx[node] = ctr\n",
    "                idx_node.append(node)\n",
    "                ctr += 1\n",
    "    slices_graph_remap = []\n",
    "    slices_features_remap = []\n",
    "    for slice_id in slices_graph:\n",
    "        G = nx.MultiGraph()\n",
    "        for x in slices_graph[slice_id].nodes():\n",
    "            G.add_node(node_idx[x])\n",
    "        for x in slices_graph[slice_id].edges(data=True):\n",
    "            G.add_edge(node_idx[x[0]], node_idx[x[1]], date=x[2]['date'])\n",
    "        assert (len(G.nodes()) == len(slices_graph[slice_id].nodes()))\n",
    "        assert (len(G.edges()) == len(slices_graph[slice_id].edges()))\n",
    "        slices_graph_remap.append(G)\n",
    "    \n",
    "    for slice_id in slices_features:\n",
    "        features_remap = []\n",
    "        for x in slices_graph_remap[slice_id].nodes():\n",
    "            features_remap.append(slices_features[slice_id][idx_node[x]])\n",
    "            #features_remap.append(np.array(slices_features[slice_id][idx_node[x]]).flatten())\n",
    "        features_remap = csr_matrix(np.squeeze(np.array(features_remap)))\n",
    "        slices_features_remap.append(features_remap)\n",
    "    return (slices_graph_remap, slices_features_remap)"
   ]
  },
  {
   "cell_type": "code",
   "execution_count": 4,
   "metadata": {},
   "outputs": [
    {
     "name": "stdout",
     "output_type": "stream",
     "text": [
      "('Total # nodes', 1809, 'max idx', 1813)\n"
     ]
    }
   ],
   "source": [
    "slices_links_remap, slices_features_remap = remap(slices_links, slices_features)\n"
   ]
  },
  {
   "cell_type": "code",
   "execution_count": 5,
   "metadata": {},
   "outputs": [],
   "source": [
    "np.savez('email_uci/graphs.npz', graph=slices_links_remap)\n",
    "np.savez('email_uci/features.npz', feats=slices_features_remap)\n",
    "\n"
   ]
  }
 ],
 "metadata": {
  "kernelspec": {
   "display_name": "Python [conda env:tf2]",
   "language": "python",
   "name": "conda-env-tf2-py"
  },
  "language_info": {
   "codemirror_mode": {
    "name": "ipython",
    "version": 2
   },
   "file_extension": ".py",
   "mimetype": "text/x-python",
   "name": "python",
   "nbconvert_exporter": "python",
   "pygments_lexer": "ipython2",
   "version": "2.7.15"
  }
 },
 "nbformat": 4,
 "nbformat_minor": 2
}
