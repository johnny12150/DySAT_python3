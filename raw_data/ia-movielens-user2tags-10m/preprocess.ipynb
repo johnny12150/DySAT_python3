{
 "cells": [
  {
   "cell_type": "markdown",
   "metadata": {},
   "source": [
    "# Download link for ML-10M dataset (User-Tag): \n",
    "\n",
    "http://networkrepository.com/ia-movielens-user2tags-10m.php"
   ]
  },
  {
   "cell_type": "code",
   "execution_count": 2,
   "metadata": {},
   "outputs": [
    {
     "name": "stdout",
     "output_type": "stream",
     "text": [
      "('# nodes', 20537)\n"
     ]
    }
   ],
   "source": [
    "\n",
    "# coding: utf-8\n",
    "\n",
    "\n",
    "import dill\n",
    "from collections import defaultdict\n",
    "from datetime import datetime, timedelta\n",
    "\n",
    "links = []\n",
    "ts = []\n",
    "ctr = 0\n",
    "node_cnt = 0\n",
    "node_idx = {}\n",
    "idx_node = []\n",
    "\n",
    "\n",
    "users = []\n",
    "tags = []\n",
    "with open('ia-movielens-user2tags-10m.edges') as f:\n",
    "    \n",
    "    lines = f.read().splitlines()\n",
    "    for l in lines:\n",
    "        if l[0] == '%':\n",
    "            continue\n",
    "            \n",
    "        u_id, tag_id, e, t = map(int, l.split(\" \"))\n",
    "        \n",
    "        users.append(u_id)\n",
    "        tags.append(tag_id)\n",
    "        \n",
    "user = list(set(users))\n",
    "\n",
    "\n",
    "node_cnt = 0\n",
    "\n",
    "for u in users:\n",
    "    if \"u_\"+str(u) not in node_idx:\n",
    "        node_idx[\"u_\"+str(u)] = node_cnt\n",
    "        node_cnt += 1\n",
    "\n",
    "for t in tags: \n",
    "    if \"t_\"+str(t) not in node_idx:\n",
    "        node_idx[\"t_\"+str(t)] = node_cnt\n",
    "        node_cnt += 1\n",
    "print (\"# nodes\", node_cnt)\n"
   ]
  },
  {
   "cell_type": "code",
   "execution_count": 3,
   "metadata": {},
   "outputs": [
    {
     "name": "stdout",
     "output_type": "stream",
     "text": [
      "('Min ts', datetime.datetime(2005, 12, 22, 20, 49, 47), 'max ts', datetime.datetime(2009, 1, 4, 20, 13, 10))\n",
      "Total time span: 1108 days\n",
      "('# temporal links', 95580)\n",
      "('Agg graph', 20537, 43760)\n"
     ]
    }
   ],
   "source": [
    "\n",
    "with open('ia-movielens-user2tags-10m.edges') as f:\n",
    "    \n",
    "    lines = f.read().splitlines()\n",
    "    for l in lines:\n",
    "        if l[0] == '%':\n",
    "            continue\n",
    "            \n",
    "        x, y, e, t = map(int, l.split(\" \"))\n",
    "        \n",
    "        assert (e == 1)\n",
    "        \n",
    "        timestamp = datetime.fromtimestamp(t)\n",
    "        ts.append(timestamp)\n",
    "        \n",
    "        ctr += 1\n",
    "        if ctr % 100000 == 0:\n",
    "            print (ctr)\n",
    "            \n",
    "        links.append((node_idx[\"u_\"+str(x)],node_idx[\"t_\"+str(y)], timestamp))\n",
    "            \n",
    "\n",
    "print (\"Min ts\", min(ts), \"max ts\", max(ts))\n",
    "print (\"Total time span: {} days\".format((max(ts) - min(ts)).days))\n",
    "links.sort(key =lambda x: x[2])\n",
    "print (\"# temporal links\", len(links))\n",
    "\n",
    "import networkx as nx\n",
    "agg_G = nx.Graph()\n",
    "for a,b,t in links:\n",
    "    agg_G.add_edge(a,b)\n",
    "\n",
    "print (\"Agg graph\", len(agg_G.nodes()), len(agg_G.edges()))\n",
    "\n"
   ]
  },
  {
   "cell_type": "code",
   "execution_count": 4,
   "metadata": {},
   "outputs": [
    {
     "name": "stdout",
     "output_type": "stream",
     "text": [
      "('Start date', datetime.datetime(2005, 12, 22, 20, 49, 47))\n",
      "('End date', datetime.datetime(2008, 12, 15, 20, 13, 10))\n",
      "('# nodes in slice', 0, 6058)\n",
      "('# edges in slice', 0, 16704)\n",
      "('Shape of temp matrix', (20537, 20537))\n",
      "('# nodes in slice', 1, 7588)\n",
      "('# edges in slice', 1, 6995)\n",
      "('Shape of temp matrix', (20537, 20537))\n",
      "('# nodes in slice', 2, 8825)\n",
      "('# edges in slice', 2, 5217)\n",
      "('Shape of temp matrix', (20537, 20537))\n",
      "('# nodes in slice', 3, 10030)\n",
      "('# edges in slice', 3, 6542)\n",
      "('Shape of temp matrix', (20537, 20537))\n",
      "('# nodes in slice', 4, 11529)\n",
      "('# edges in slice', 4, 11799)\n",
      "('Shape of temp matrix', (20537, 20537))\n",
      "('# nodes in slice', 5, 12766)\n",
      "('# edges in slice', 5, 9032)\n",
      "('Shape of temp matrix', (20537, 20537))\n",
      "('# nodes in slice', 6, 15193)\n",
      "('# edges in slice', 6, 10455)\n",
      "('Shape of temp matrix', (20537, 20537))\n",
      "('# nodes in slice', 7, 16097)\n",
      "('# edges in slice', 7, 4670)\n",
      "('Shape of temp matrix', (20537, 20537))\n",
      "('# nodes in slice', 8, 17168)\n",
      "('# edges in slice', 8, 6154)\n",
      "('Shape of temp matrix', (20537, 20537))\n",
      "('# nodes in slice', 9, 18036)\n",
      "('# edges in slice', 9, 4552)\n",
      "('Shape of temp matrix', (20537, 20537))\n",
      "('# nodes in slice', 10, 19494)\n",
      "('# edges in slice', 10, 6073)\n",
      "('Shape of temp matrix', (20537, 20537))\n",
      "('# nodes in slice', 11, 20265)\n",
      "('# edges in slice', 11, 5001)\n",
      "('Shape of temp matrix', (20537, 20537))\n",
      "('# nodes in slice', 12, 20537)\n",
      "('# edges in slice', 12, 2386)\n",
      "('Shape of temp matrix', (20537, 20537))\n"
     ]
    }
   ],
   "source": [
    "import networkx as nx\n",
    "import numpy as np\n",
    "from datetime import datetime, timedelta\n",
    "SLICE_DAYS = 30*3\n",
    "START_DATE = min(ts) \n",
    "END_DATE = max(ts) - timedelta(20)\n",
    "\n",
    "slices_links = defaultdict(lambda : nx.MultiGraph())\n",
    "slices_features = defaultdict(lambda : {})\n",
    "\n",
    "print (\"Start date\", START_DATE)\n",
    "print (\"End date\", END_DATE)\n",
    "\n",
    "\n",
    "slice_id = 0\n",
    "# Split the set of links in order by slices to create the graphs. \n",
    "\n",
    "for (a, b, time) in links:\n",
    "    prev_slice_id = slice_id\n",
    "    datetime_object = time\n",
    "\n",
    "    days_diff = (datetime_object - START_DATE).days\n",
    "        \n",
    "    slice_id = days_diff // SLICE_DAYS\n",
    "    \n",
    "    if slice_id == 1+prev_slice_id and slice_id > 0:\n",
    "        slices_links[slice_id] = nx.MultiGraph()\n",
    "        slices_links[slice_id].add_nodes_from(slices_links[slice_id-1].nodes(data=True))\n",
    "        assert (len(slices_links[slice_id].edges()) ==0)\n",
    "        #assert len(slices_links[slice_id].nodes()) >0\n",
    "\n",
    "    if slice_id == 1+prev_slice_id and slice_id ==0:\n",
    "        slices_links[slice_id] = nx.MultiGraph()\n",
    "\n",
    "    if a not in slices_links[slice_id]:\n",
    "        slices_links[slice_id].add_node(a)\n",
    "    if b not in slices_links[slice_id]:\n",
    "        slices_links[slice_id].add_node(b)    \n",
    "    slices_links[slice_id].add_edge(a,b, weight= e, date=datetime_object)\n",
    "\n",
    "\n",
    "for slice_id in slices_links:\n",
    "    print (\"# nodes in slice\", slice_id, len(slices_links[slice_id].nodes()))\n",
    "    print (\"# edges in slice\", slice_id, len(slices_links[slice_id].edges()))\n",
    "    \n",
    "    temp = np.identity(len(slices_links[max(slices_links.keys())].nodes()))\n",
    "    print (\"Shape of temp matrix\", temp.shape)\n",
    "    slices_features[slice_id] = {}\n",
    "    for idx, node in enumerate(slices_links[slice_id].nodes()):\n",
    "        slices_features[slice_id][node] = temp[idx]\n",
    "\n"
   ]
  },
  {
   "cell_type": "code",
   "execution_count": 6,
   "metadata": {
    "collapsed": true
   },
   "outputs": [],
   "source": [
    "from scipy.sparse import csr_matrix\n",
    "\n",
    "def remap(slices_graph, slices_features):\n",
    "    all_nodes = []\n",
    "    for slice_id in slices_graph:\n",
    "        assert len(slices_graph[slice_id].nodes()) == len(slices_features[slice_id])\n",
    "        all_nodes.extend(slices_graph[slice_id].nodes())\n",
    "    all_nodes = list(set(all_nodes))\n",
    "    print (\"Total # nodes\", len(all_nodes), \"max idx\", max(all_nodes))\n",
    "    ctr = 0\n",
    "    node_idx = {}\n",
    "    idx_node = []\n",
    "    for slice_id in slices_graph:\n",
    "        for node in slices_graph[slice_id].nodes():\n",
    "            if node not in node_idx:\n",
    "                node_idx[node] = ctr\n",
    "                idx_node.append(node)\n",
    "                ctr += 1\n",
    "    slices_graph_remap = []\n",
    "    slices_features_remap = []\n",
    "    for slice_id in slices_graph:\n",
    "        G = nx.MultiGraph()\n",
    "        for x in slices_graph[slice_id].nodes():\n",
    "            G.add_node(node_idx[x])\n",
    "        for x in slices_graph[slice_id].edges(data=True):\n",
    "            G.add_edge(node_idx[x[0]], node_idx[x[1]], date=x[2]['date'])\n",
    "        assert (len(G.nodes()) == len(slices_graph[slice_id].nodes()))\n",
    "        assert (len(G.edges()) == len(slices_graph[slice_id].edges()))\n",
    "        slices_graph_remap.append(G)\n",
    "    \n",
    "    for slice_id in slices_features:\n",
    "        features_remap = []\n",
    "        for x in slices_graph_remap[slice_id].nodes():\n",
    "            features_remap.append(slices_features[slice_id][idx_node[x]])\n",
    "            #features_remap.append(np.array(slices_features[slice_id][idx_node[x]]).flatten())\n",
    "        features_remap = csr_matrix(np.squeeze(np.array(features_remap)))\n",
    "        slices_features_remap.append(features_remap)\n",
    "    return (slices_graph_remap, slices_features_remap)\n",
    "\n"
   ]
  },
  {
   "cell_type": "code",
   "execution_count": 7,
   "metadata": {},
   "outputs": [
    {
     "name": "stdout",
     "output_type": "stream",
     "text": [
      "('Total # nodes', 20537, 'max idx', 20536)\n"
     ]
    }
   ],
   "source": [
    "slices_links_remap, slices_features_remap = remap(slices_links, slices_features)\n"
   ]
  },
  {
   "cell_type": "code",
   "execution_count": 7,
   "metadata": {
    "collapsed": true
   },
   "outputs": [],
   "source": [
    "np.savez('ml-10m_new/graphs.npz', graph=slices_links_remap)\n",
    "np.savez('ml-10m_new/features.npz', feats=slices_features_remap)\n",
    "\n"
   ]
  }
 ],
 "metadata": {
  "kernelspec": {
   "display_name": "Python [conda env:tf2]",
   "language": "python",
   "name": "conda-env-tf2-py"
  },
  "language_info": {
   "codemirror_mode": {
    "name": "ipython",
    "version": 2
   },
   "file_extension": ".py",
   "mimetype": "text/x-python",
   "name": "python",
   "nbconvert_exporter": "python",
   "pygments_lexer": "ipython2",
   "version": "2.7.15"
  }
 },
 "nbformat": 4,
 "nbformat_minor": 2
}
